{
 "cells": [
  {
   "cell_type": "markdown",
   "metadata": {
    "pycharm": {
     "name": "#%% md\n"
    },
    "tags": []
   },
   "source": [
    "<center>7MRI0020 Scientific Programming - 2021/2022\n",
    "\n",
    "coursework #1\n",
    "\n",
    "Testing</center>\n",
    "\n",
    "___\n",
    "\n",
    "Submission deadline: Thursday 11th November 2021 - 4pm\n",
    "\n",
    "Submit your 2 python code files (code and test) as a single zip file via\n",
    "the corresponding section on the module Keats page.\n",
    "___\n",
    "\n",
    "The aim of this coursework is to complete some of the methods of the class\n",
    "`PiecewiseLinearFunction` in the file `piecewise_linear_function.py` and the\n",
    "associated unit tests in the file `test_piecewise_linear_function.py`. Note\n",
    "that the term `Function` in the class name relate to a mathematical function\n",
    "rather than a method.\n",
    "\n",
    "`PiecewiseLinearFunction` is intended to represent a 1-dimensional mathematical\n",
    "function parametrised by points. Each point has a coordinate and an associated\n",
    "value. All points are encoded as a dictionary where the coordinates are the\n",
    "keys. As a result one coordinate can only be associated with a single value.\n",
    "\n",
    "The `interp` and `extrap` methods enable to interpolate or extrapolate the \n",
    "function value at any coordinate. Only nearest neighbour inter- and\n",
    "extra-polation have been implemented. You will have to implement the linear\n",
    "interpolation and extrapolation.\n",
    "\n",
    "Linear interpolation is effectively a weighted sum of the values associated\n",
    "with the two surrounding neighbours of a coordinate. For example, considering\n",
    "two points, A and B at coordiwnate 10 and 15 respectively and with associated\n",
    "values of 5 and -5, one can interpolate the value of any coordinate C in the\n",
    "range [10;15] as follow: \n",
    "\n",
    "$ratio = (C-A)/(B-A)$\n",
    "\n",
    "$value[C] = value[A] * (1-ratio) + value[B] * ratio$\n",
    "\n",
    "An illustration is shown in the cell below."
   ]
  },
  {
   "cell_type": "code",
   "execution_count": 1,
   "metadata": {
    "collapsed": false,
    "jupyter": {
     "outputs_hidden": false
    },
    "pycharm": {
     "is_executing": false,
     "name": "#%%\n"
    }
   },
   "outputs": [
    {
     "data": {
      "image/png": "[encoded data removed]",
      "text/plain": [
       "<Figure size 432x288 with 1 Axes>"
      ]
     },
     "metadata": {
      "needs_background": "light"
     },
     "output_type": "display_data"
    }
   ],
   "source": [
    "from matplotlib import pyplot as plt\n",
    "%matplotlib inline\n",
    "\n",
    "value={10:5, 15:-5}\n",
    "plt.plot(value.keys(), value.values(), 'r+', label='Initial values')\n",
    "interp = lambda c: value[10] * (1-(c-10)/(15-10)) + value[15] * (c-10)/(15-10)\n",
    "coord = [10 + x * 0.1 for x in range(1, 50)]\n",
    "plt.plot(coord, list(map(interp, coord)), 'b+', label='Interpolated values')\n",
    "plt.title('Interpolation example')\n",
    "plt.xlabel('Coordinates')\n",
    "plt.xlabel('Values')\n",
    "plt.legend(loc=\"upper right\")\n",
    "plt.show()"
   ]
  },
  {
   "cell_type": "markdown",
   "metadata": {
    "pycharm": {
     "name": "#%% md\n"
    }
   },
   "source": [
    "For the purpose of extrapolation, meaning when values are available only on one\n",
    "side of the required coordinate, one could consider extrapolating from the two\n",
    "closest available points as illustrated in the cell below."
   ]
  },
  {
   "cell_type": "code",
   "execution_count": 2,
   "metadata": {
    "collapsed": false,
    "jupyter": {
     "outputs_hidden": false
    },
    "pycharm": {
     "name": "#%%\n"
    }
   },
   "outputs": [
    {
     "data": {
      "image/png": "[encoded data removed]",
      "text/plain": [
       "<Figure size 432x288 with 1 Axes>"
      ]
     },
     "metadata": {
      "needs_background": "light"
     },
     "output_type": "display_data"
    }
   ],
   "source": [
    "from matplotlib import pyplot as plt\n",
    "%matplotlib inline\n",
    "\n",
    "value={10:5, 15:-5}\n",
    "plt.plot(value.keys(), value.values(), 'r+', label='Initial values')\n",
    "interp = lambda c: value[10] * (1-(c-10)/(15-10)) + value[15] * (c-10)/(15-10)\n",
    "coord = [5 + x * 0.1 for x in range(1, 50)]\n",
    "plt.plot(coord, list(map(interp, coord)), 'b+', label='Extrapolated values')\n",
    "plt.title('Extrapolation example')\n",
    "plt.xlabel('Coordinates')\n",
    "plt.xlabel('Values')\n",
    "plt.legend(loc=\"upper right\")\n",
    "plt.show()"
   ]
  },
  {
   "cell_type": "markdown",
   "metadata": {
    "pycharm": {
     "name": "#%% md\n"
    }
   },
   "source": [
    "1. Complete the `interp` and `extrap` methods to ensure linear interpolation can\n",
    "be used [20 marks]. \n",
    "\n",
    "2. Write as many associated unit tests as you think are\n",
    "required [20 marks]. \n",
    "\n",
    "As mentioned during the lectures, do focus on edge cases.\n",
    "Note that you are not expected to import any further modules (libraries) and you\n",
    "should take advantage of the features of the language where possible\n",
    "(idiomatic python - Week 02).\n",
    "\n",
    "3. The class constructor, the `__init__` method, is incomplete as many of the\n",
    "provided tests still fail. Do complete the method [10 marks],\n",
    "\n",
    "4. comment the code [10 marks] and \n",
    "\n",
    "5. comment the unit tests [10 marks].\n",
    "Ensure that your comments are meaningful. You can refer to\n",
    "[this page](https://realpython.com/python-comments-guide/) for recommendations\n",
    "about good commenting practices.\n",
    "\n",
    "\n",
    "6. The operator `+` has been defined for the class but we have not defined the\n",
    "`+=` operator. Write the method to define the `+=` operator to support the\n",
    "addition of a an object of the class or any real number [10 marks].\n",
    "\n",
    "\n",
    "7. Write the associated tests to ensure your code behaves as expected [10 marks].\n",
    "\n",
    "\n",
    "8. While writing your code and comments, you are expected to adhere to Python\n",
    "style guidelines (see https://www.python.org/dev/peps/pep-0008).\n",
    "Your code will be assessed with static and style analysis tools\n",
    "(as seen in Week 03 - Part 02 material) to detect any potential\n",
    "defects [10 marks].\n",
    "\n",
    "\n",
    "Below is an illustrative use of the PiecewiseLinearFunction class, where two\n",
    "objects are created then their addition is stored in a new object and finally\n",
    "all objects are displayed in the form of a cloud of points."
   ]
  },
  {
   "cell_type": "code",
   "execution_count": 3,
   "metadata": {},
   "outputs": [
    {
     "ename": "NameError",
     "evalue": "name 'PiecewiseLinearFunction' is not defined",
     "output_type": "error",
     "traceback": [
      "\u001b[1;31m---------------------------------------------------------------------------\u001b[0m",
      "\u001b[1;31mNameError\u001b[0m                                 Traceback (most recent call last)",
      "\u001b[1;32m<ipython-input-3-7c244e38215d>\u001b[0m in \u001b[0;36m<module>\u001b[1;34m\u001b[0m\n\u001b[1;32m----> 1\u001b[1;33m fct1 = PiecewiseLinearFunction(zip(\n\u001b[0m\u001b[0;32m      2\u001b[0m     \u001b[1;33m(\u001b[0m\u001b[0mrandom\u001b[0m\u001b[1;33m.\u001b[0m\u001b[0msample\u001b[0m\u001b[1;33m(\u001b[0m\u001b[0mrange\u001b[0m\u001b[1;33m(\u001b[0m\u001b[1;33m-\u001b[0m\u001b[1;36m1000\u001b[0m\u001b[1;33m,\u001b[0m \u001b[1;36m1000\u001b[0m\u001b[1;33m)\u001b[0m\u001b[1;33m,\u001b[0m \u001b[1;36m10\u001b[0m\u001b[1;33m)\u001b[0m\u001b[1;33m)\u001b[0m\u001b[1;33m,\u001b[0m\u001b[1;33m\u001b[0m\u001b[1;33m\u001b[0m\u001b[0m\n\u001b[0;32m      3\u001b[0m     \u001b[1;33m(\u001b[0m\u001b[0mrandom\u001b[0m\u001b[1;33m.\u001b[0m\u001b[0muniform\u001b[0m\u001b[1;33m(\u001b[0m\u001b[1;33m-\u001b[0m\u001b[1;36m100\u001b[0m\u001b[1;33m,\u001b[0m \u001b[1;36m100\u001b[0m\u001b[1;33m)\u001b[0m \u001b[1;32mfor\u001b[0m \u001b[0mi\u001b[0m \u001b[1;32min\u001b[0m \u001b[0mrange\u001b[0m\u001b[1;33m(\u001b[0m\u001b[1;36m10\u001b[0m\u001b[1;33m)\u001b[0m\u001b[1;33m)\u001b[0m\u001b[1;33m\u001b[0m\u001b[1;33m\u001b[0m\u001b[0m\n\u001b[0;32m      4\u001b[0m ), interpolation='nearestNeighboor')\n\u001b[0;32m      5\u001b[0m \u001b[0mfct1\u001b[0m\u001b[1;33m.\u001b[0m\u001b[0mmin_coord\u001b[0m\u001b[1;33m(\u001b[0m\u001b[1;33m)\u001b[0m\u001b[1;33m\u001b[0m\u001b[1;33m\u001b[0m\u001b[0m\n",
      "\u001b[1;31mNameError\u001b[0m: name 'PiecewiseLinearFunction' is not defined"
     ]
    }
   ],
   "source": [
    "fct1 = PiecewiseLinearFunction(zip(\n",
    "    (random.sample(range(-1000, 1000), 10)),\n",
    "    (random.uniform(-100, 100) for i in range(10))\n",
    "), interpolation='nearestNeighboor')\n",
    "fct1.min_coord()"
   ]
  },
  {
   "cell_type": "code",
   "execution_count": null,
   "metadata": {},
   "outputs": [],
   "source": [
    "fct2 = PiecewiseLinearFunction(rand_num_values=10, interpolation='nearestNeighboor')\n",
    "fct2.min_coord()"
   ]
  },
  {
   "cell_type": "code",
   "execution_count": null,
   "metadata": {},
   "outputs": [],
   "source": [
    "fct1 + fct2"
   ]
  },
  {
   "cell_type": "code",
   "execution_count": 4,
   "metadata": {
    "collapsed": false,
    "jupyter": {
     "outputs_hidden": false
    },
    "pycharm": {
     "name": "#%%\n"
    }
   },
   "outputs": [
    {
     "ename": "TypeError",
     "evalue": "'<' not supported between instances of 'NoneType' and 'int'",
     "output_type": "error",
     "traceback": [
      "\u001b[1;31m---------------------------------------------------------------------------\u001b[0m",
      "\u001b[1;31mTypeError\u001b[0m                                 Traceback (most recent call last)",
      "\u001b[1;32m<ipython-input-4-87f46db37eaf>\u001b[0m in \u001b[0;36m<module>\u001b[1;34m\u001b[0m\n\u001b[0;32m     12\u001b[0m \u001b[0mfct2\u001b[0m \u001b[1;33m=\u001b[0m \u001b[0mPiecewiseLinearFunction\u001b[0m\u001b[1;33m(\u001b[0m\u001b[0mrand_num_values\u001b[0m\u001b[1;33m=\u001b[0m\u001b[1;36m10\u001b[0m\u001b[1;33m,\u001b[0m \u001b[0minterpolation\u001b[0m\u001b[1;33m=\u001b[0m\u001b[1;34m'linear'\u001b[0m\u001b[1;33m)\u001b[0m\u001b[1;33m\u001b[0m\u001b[1;33m\u001b[0m\u001b[0m\n\u001b[0;32m     13\u001b[0m \u001b[1;33m\u001b[0m\u001b[0m\n\u001b[1;32m---> 14\u001b[1;33m \u001b[0mfct3\u001b[0m \u001b[1;33m=\u001b[0m \u001b[0mfct1\u001b[0m \u001b[1;33m+\u001b[0m \u001b[0mfct2\u001b[0m\u001b[1;33m\u001b[0m\u001b[1;33m\u001b[0m\u001b[0m\n\u001b[0m\u001b[0;32m     15\u001b[0m \u001b[1;33m\u001b[0m\u001b[0m\n\u001b[0;32m     16\u001b[0m \u001b[0mplt\u001b[0m\u001b[1;33m.\u001b[0m\u001b[0mfigure\u001b[0m\u001b[1;33m(\u001b[0m\u001b[1;33m)\u001b[0m\u001b[1;33m\u001b[0m\u001b[1;33m\u001b[0m\u001b[0m\n",
      "\u001b[1;32m~\\Desktop\\KCL Modules Archive\\2021 Sem 1\\Scientific Programming\\Coursework 1\\piecewise_linear_function.py\u001b[0m in \u001b[0;36m__add__\u001b[1;34m(self, other)\u001b[0m\n\u001b[0;32m    247\u001b[0m             \u001b[1;32mfor\u001b[0m \u001b[0mc2\u001b[0m\u001b[1;33m,\u001b[0m \u001b[0mv2\u001b[0m \u001b[1;32min\u001b[0m \u001b[0mother\u001b[0m\u001b[1;33m:\u001b[0m\u001b[1;33m\u001b[0m\u001b[1;33m\u001b[0m\u001b[0m\n\u001b[0;32m    248\u001b[0m                 \u001b[1;32mif\u001b[0m \u001b[0mc2\u001b[0m \u001b[1;32mnot\u001b[0m \u001b[1;32min\u001b[0m \u001b[0mnew_values\u001b[0m\u001b[1;33m.\u001b[0m\u001b[0mkeys\u001b[0m\u001b[1;33m(\u001b[0m\u001b[1;33m)\u001b[0m\u001b[1;33m:\u001b[0m\u001b[1;33m\u001b[0m\u001b[1;33m\u001b[0m\u001b[0m\n\u001b[1;32m--> 249\u001b[1;33m                     \u001b[0mnew_values\u001b[0m\u001b[1;33m[\u001b[0m\u001b[0mc2\u001b[0m\u001b[1;33m]\u001b[0m \u001b[1;33m=\u001b[0m \u001b[0mself\u001b[0m\u001b[1;33m.\u001b[0m\u001b[0minterp\u001b[0m\u001b[1;33m(\u001b[0m\u001b[0mc2\u001b[0m\u001b[1;33m)\u001b[0m \u001b[1;33m+\u001b[0m \u001b[0mv2\u001b[0m\u001b[1;33m\u001b[0m\u001b[1;33m\u001b[0m\u001b[0m\n\u001b[0m\u001b[0;32m    250\u001b[0m         \u001b[1;31m# Add a constant to the left-hand side operand\u001b[0m\u001b[1;33m\u001b[0m\u001b[1;33m\u001b[0m\u001b[1;33m\u001b[0m\u001b[0m\n\u001b[0;32m    251\u001b[0m         \u001b[1;32melif\u001b[0m \u001b[0misinstance\u001b[0m\u001b[1;33m(\u001b[0m\u001b[0mother\u001b[0m\u001b[1;33m,\u001b[0m \u001b[1;33m(\u001b[0m\u001b[0mint\u001b[0m\u001b[1;33m,\u001b[0m \u001b[0mfloat\u001b[0m\u001b[1;33m)\u001b[0m\u001b[1;33m)\u001b[0m\u001b[1;33m:\u001b[0m\u001b[1;33m\u001b[0m\u001b[1;33m\u001b[0m\u001b[0m\n",
      "\u001b[1;32m~\\Desktop\\KCL Modules Archive\\2021 Sem 1\\Scientific Programming\\Coursework 1\\piecewise_linear_function.py\u001b[0m in \u001b[0;36minterp\u001b[1;34m(self, coord)\u001b[0m\n\u001b[0;32m    163\u001b[0m         \u001b[1;31m# Call the extrapolation function if the coordinate is outside of the\u001b[0m\u001b[1;33m\u001b[0m\u001b[1;33m\u001b[0m\u001b[1;33m\u001b[0m\u001b[0m\n\u001b[0;32m    164\u001b[0m         \u001b[1;31m# range\u001b[0m\u001b[1;33m\u001b[0m\u001b[1;33m\u001b[0m\u001b[1;33m\u001b[0m\u001b[0m\n\u001b[1;32m--> 165\u001b[1;33m         \u001b[1;32mif\u001b[0m \u001b[1;32mnot\u001b[0m \u001b[0mself\u001b[0m\u001b[1;33m.\u001b[0m\u001b[0mmin_coord\u001b[0m \u001b[1;33m<\u001b[0m \u001b[0mcoord\u001b[0m \u001b[1;33m<\u001b[0m \u001b[0mself\u001b[0m\u001b[1;33m.\u001b[0m\u001b[0mmax_coord\u001b[0m\u001b[1;33m:\u001b[0m\u001b[1;33m\u001b[0m\u001b[1;33m\u001b[0m\u001b[0m\n\u001b[0m\u001b[0;32m    166\u001b[0m             \u001b[1;32mreturn\u001b[0m \u001b[0mself\u001b[0m\u001b[1;33m.\u001b[0m\u001b[0mextrap\u001b[0m\u001b[1;33m(\u001b[0m\u001b[0mcoord\u001b[0m\u001b[1;33m)\u001b[0m\u001b[1;33m\u001b[0m\u001b[1;33m\u001b[0m\u001b[0m\n\u001b[0;32m    167\u001b[0m         \u001b[1;32mif\u001b[0m \u001b[0mself\u001b[0m\u001b[1;33m.\u001b[0m\u001b[0minterpolation\u001b[0m \u001b[1;33m==\u001b[0m \u001b[1;34m'nearestNeighboor'\u001b[0m\u001b[1;33m:\u001b[0m\u001b[1;33m\u001b[0m\u001b[1;33m\u001b[0m\u001b[0m\n",
      "\u001b[1;31mTypeError\u001b[0m: '<' not supported between instances of 'NoneType' and 'int'"
     ]
    }
   ],
   "source": [
    "from piecewise_linear_function import PiecewiseLinearFunction\n",
    "import random\n",
    "\n",
    "seed = 100\n",
    "\n",
    "random.seed(seed)\n",
    "fct1 = PiecewiseLinearFunction(zip(\n",
    "    (random.sample(range(-1000, 1000), 10)),\n",
    "    (random.uniform(-100, 100) for i in range(10))\n",
    "), interpolation='nearestNeighboor')\n",
    "\n",
    "fct2 = PiecewiseLinearFunction(rand_num_values=10, interpolation='linear')\n",
    "\n",
    "fct3 = fct1 + fct2\n",
    "\n",
    "plt.figure()\n",
    "plt.plot(\n",
    "    *fct1.get_lists_sorted_by_coord(), 'r-',\n",
    "    *fct2.get_lists_sorted_by_coord(), 'b-',\n",
    "    *fct3.get_lists_sorted_by_coord(), 'k-')\n",
    "\n",
    "plt.show()\n",
    "\n",
    "random.seed(seed)\n",
    "fct1 = PiecewiseLinearFunction(zip(\n",
    "    (random.sample(range(-1000, 1000), 10)),\n",
    "    (random.uniform(-100, 100) for i in range(10))\n",
    "), interpolation='linear')\n",
    "fct2 = PiecewiseLinearFunction(rand_num_values=10, interpolation='linear')\n",
    "\n",
    "fct3 = fct1 + fct2\n",
    "\n",
    "plt.plot(\n",
    "    *fct1.get_lists_sorted_by_coord(), 'r-',\n",
    "    *fct2.get_lists_sorted_by_coord(), 'b-',\n",
    "    *fct3.get_lists_sorted_by_coord(), 'k-')\n",
    "\n",
    "\n",
    "\n",
    "\n",
    "\n",
    "\n",
    "plt.show()\n",
    "\n",
    "\n"
   ]
  },
  {
   "cell_type": "code",
   "execution_count": null,
   "metadata": {},
   "outputs": [],
   "source": [
    "import numpy as np"
   ]
  },
  {
   "cell_type": "code",
   "execution_count": null,
   "metadata": {},
   "outputs": [],
   "source": [
    "min_value, max_value = 10, 20\n",
    "x_vals = np.array([min_value, 15, max_value])\n",
    "y_vals = np.array([5, 2, 7])\n",
    "\n",
    "coord_dict = {x: y for x, y in zip(x_vals, y_vals)}\n",
    "\n",
    "mesh_x = np.linspace(min_value, max_value, 11)\n",
    "\n",
    "my_plc = PiecewiseLinearFunction(values=coord_dict, interpolation='linear', extrapolation='nearestNeighboor')\n",
    "mesh_y = [my_plc.interp(x) for x in mesh_x]\n",
    "\n",
    "coords_interp = {x: y for x, y in zip(mesh_x, mesh_y)}\n",
    "\n",
    "\n",
    "plt.figure()\n",
    "plt.scatter(coord_dict.keys(), coord_dict.values(), label='original', marker='x', c='r', s=150)\n",
    "plt.scatter(coords_interp.keys(), coords_interp.values(), label='preds', marker='o', c='b')\n",
    "\n",
    "plt.legend()\n",
    "plt.show()"
   ]
  },
  {
   "cell_type": "code",
   "execution_count": null,
   "metadata": {},
   "outputs": [],
   "source": [
    "min_value, max_value = 10, 20\n",
    "x_vals = np.array([min_value, 15, max_value])\n",
    "y_vals = np.array([5, 9, 7])\n",
    "\n",
    "coord_dict = {x: y for x, y in zip(x_vals, y_vals)}\n",
    "\n",
    "mesh_x = np.linspace(max_value-10, max_value+10, 11)\n",
    "\n",
    "my_plc = PiecewiseLinearFunction(values=coord_dict, interpolation='linear', extrapolation='linear')\n",
    "mesh_y = [my_plc.interp(x) for x in mesh_x]\n",
    "\n",
    "coords_interp = {x: y for x, y in zip(mesh_x, mesh_y)}\n",
    "\n",
    "\n",
    "plt.figure()\n",
    "plt.scatter(coord_dict.keys(), coord_dict.values(), label='original', marker='x', c='r', s=150)\n",
    "plt.scatter(coords_interp.keys(), coords_interp.values(), label='preds', marker='o', c='b')\n",
    "\n",
    "plt.legend()\n",
    "plt.show()"
   ]
  },
  {
   "cell_type": "code",
   "execution_count": null,
   "metadata": {},
   "outputs": [],
   "source": [
    "a = [1, 2, 3, 4]\n",
    "a"
   ]
  },
  {
   "cell_type": "code",
   "execution_count": null,
   "metadata": {},
   "outputs": [],
   "source": [
    "fct1 += fct2"
   ]
  },
  {
   "cell_type": "code",
   "execution_count": null,
   "metadata": {},
   "outputs": [],
   "source": [
    "fct1"
   ]
  },
  {
   "cell_type": "code",
   "execution_count": null,
   "metadata": {},
   "outputs": [],
   "source": [
    "a = zip(\n",
    "    (random.sample(range(-1000, 1000), 10)),\n",
    "    (random.uniform(-100, 100) for i in range(10))\n",
    ")"
   ]
  },
  {
   "cell_type": "code",
   "execution_count": null,
   "metadata": {},
   "outputs": [],
   "source": [
    "dict(a)"
   ]
  },
  {
   "cell_type": "code",
   "execution_count": null,
   "metadata": {},
   "outputs": [],
   "source": []
  }
 ],
 "metadata": {
  "kernelspec": {
   "display_name": "Python 3",
   "language": "python",
   "name": "python3"
  },
  "language_info": {
   "codemirror_mode": {
    "name": "ipython",
    "version": 3
   },
   "file_extension": ".py",
   "mimetype": "text/x-python",
   "name": "python",
   "nbconvert_exporter": "python",
   "pygments_lexer": "ipython3",
   "version": "3.8.5"
  }
 },
 "nbformat": 4,
 "nbformat_minor": 4
}
